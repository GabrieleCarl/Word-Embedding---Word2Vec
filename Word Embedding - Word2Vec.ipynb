{
 "cells": [
  {
   "cell_type": "markdown",
   "id": "c505c41c",
   "metadata": {},
   "source": [
    "### Utilizzando il dataset visto nella lezione del topic modeling, individuare il documento del dataset, più simile ad uno dei documenti a scelta dello stesso dataset."
   ]
  },
  {
   "cell_type": "code",
   "execution_count": 1,
   "id": "04ecc998",
   "metadata": {},
   "outputs": [
    {
     "name": "stderr",
     "output_type": "stream",
     "text": [
      "C:\\Users\\Gcarl\\anaconda3\\lib\\site-packages\\scipy\\__init__.py:138: UserWarning: A NumPy version >=1.16.5 and <1.23.0 is required for this version of SciPy (detected version 1.23.1)\n",
      "  warnings.warn(f\"A NumPy version >={np_minversion} and <{np_maxversion} is required for this version of \"\n"
     ]
    }
   ],
   "source": [
    "import pandas as pd\n",
    "from gensim.models import Word2Vec\n",
    "import gensim.downloader\n",
    "from scipy import spatial\n",
    "import numpy as np"
   ]
  },
  {
   "cell_type": "code",
   "execution_count": 2,
   "id": "d872d07f",
   "metadata": {},
   "outputs": [],
   "source": [
    "glove_vectors = gensim.downloader.load('glove-wiki-gigaword-300')"
   ]
  },
  {
   "cell_type": "markdown",
   "id": "03b80180",
   "metadata": {},
   "source": [
    "## Import datset"
   ]
  },
  {
   "cell_type": "code",
   "execution_count": 3,
   "id": "4d629c64",
   "metadata": {},
   "outputs": [],
   "source": [
    "URL = \"https://raw.githubusercontent.com/ProfAI/natural-language-processing/main/datasets/Lezione_7-Topic_modeling/\""
   ]
  },
  {
   "cell_type": "code",
   "execution_count": 4,
   "id": "c14a3da2",
   "metadata": {},
   "outputs": [
    {
     "data": {
      "text/html": [
       "<div>\n",
       "<style scoped>\n",
       "    .dataframe tbody tr th:only-of-type {\n",
       "        vertical-align: middle;\n",
       "    }\n",
       "\n",
       "    .dataframe tbody tr th {\n",
       "        vertical-align: top;\n",
       "    }\n",
       "\n",
       "    .dataframe thead th {\n",
       "        text-align: right;\n",
       "    }\n",
       "</style>\n",
       "<table border=\"1\" class=\"dataframe\">\n",
       "  <thead>\n",
       "    <tr style=\"text-align: right;\">\n",
       "      <th></th>\n",
       "      <th>ID</th>\n",
       "      <th>TITLE</th>\n",
       "      <th>ABSTRACT</th>\n",
       "      <th>Computer Science</th>\n",
       "      <th>Physics</th>\n",
       "      <th>Mathematics</th>\n",
       "      <th>Statistics</th>\n",
       "      <th>Quantitative Biology</th>\n",
       "      <th>Quantitative Finance</th>\n",
       "    </tr>\n",
       "  </thead>\n",
       "  <tbody>\n",
       "    <tr>\n",
       "      <th>0</th>\n",
       "      <td>1</td>\n",
       "      <td>Reconstructing Subject-Specific Effect Maps</td>\n",
       "      <td>Predictive models allow subject-specific inf...</td>\n",
       "      <td>1</td>\n",
       "      <td>0</td>\n",
       "      <td>0</td>\n",
       "      <td>0</td>\n",
       "      <td>0</td>\n",
       "      <td>0</td>\n",
       "    </tr>\n",
       "    <tr>\n",
       "      <th>1</th>\n",
       "      <td>2</td>\n",
       "      <td>Rotation Invariance Neural Network</td>\n",
       "      <td>Rotation invariance and translation invarian...</td>\n",
       "      <td>1</td>\n",
       "      <td>0</td>\n",
       "      <td>0</td>\n",
       "      <td>0</td>\n",
       "      <td>0</td>\n",
       "      <td>0</td>\n",
       "    </tr>\n",
       "    <tr>\n",
       "      <th>2</th>\n",
       "      <td>3</td>\n",
       "      <td>Spherical polyharmonics and Poisson kernels fo...</td>\n",
       "      <td>We introduce and develop the notion of spher...</td>\n",
       "      <td>0</td>\n",
       "      <td>0</td>\n",
       "      <td>1</td>\n",
       "      <td>0</td>\n",
       "      <td>0</td>\n",
       "      <td>0</td>\n",
       "    </tr>\n",
       "    <tr>\n",
       "      <th>3</th>\n",
       "      <td>4</td>\n",
       "      <td>A finite element approximation for the stochas...</td>\n",
       "      <td>The stochastic Landau--Lifshitz--Gilbert (LL...</td>\n",
       "      <td>0</td>\n",
       "      <td>0</td>\n",
       "      <td>1</td>\n",
       "      <td>0</td>\n",
       "      <td>0</td>\n",
       "      <td>0</td>\n",
       "    </tr>\n",
       "    <tr>\n",
       "      <th>4</th>\n",
       "      <td>5</td>\n",
       "      <td>Comparative study of Discrete Wavelet Transfor...</td>\n",
       "      <td>Fourier-transform infra-red (FTIR) spectra o...</td>\n",
       "      <td>1</td>\n",
       "      <td>0</td>\n",
       "      <td>0</td>\n",
       "      <td>1</td>\n",
       "      <td>0</td>\n",
       "      <td>0</td>\n",
       "    </tr>\n",
       "    <tr>\n",
       "      <th>...</th>\n",
       "      <td>...</td>\n",
       "      <td>...</td>\n",
       "      <td>...</td>\n",
       "      <td>...</td>\n",
       "      <td>...</td>\n",
       "      <td>...</td>\n",
       "      <td>...</td>\n",
       "      <td>...</td>\n",
       "      <td>...</td>\n",
       "    </tr>\n",
       "    <tr>\n",
       "      <th>20967</th>\n",
       "      <td>20968</td>\n",
       "      <td>Contemporary machine learning: a guide for pra...</td>\n",
       "      <td>Machine learning is finding increasingly bro...</td>\n",
       "      <td>1</td>\n",
       "      <td>1</td>\n",
       "      <td>0</td>\n",
       "      <td>0</td>\n",
       "      <td>0</td>\n",
       "      <td>0</td>\n",
       "    </tr>\n",
       "    <tr>\n",
       "      <th>20968</th>\n",
       "      <td>20969</td>\n",
       "      <td>Uniform diamond coatings on WC-Co hard alloy c...</td>\n",
       "      <td>Polycrystalline diamond coatings have been g...</td>\n",
       "      <td>0</td>\n",
       "      <td>1</td>\n",
       "      <td>0</td>\n",
       "      <td>0</td>\n",
       "      <td>0</td>\n",
       "      <td>0</td>\n",
       "    </tr>\n",
       "    <tr>\n",
       "      <th>20969</th>\n",
       "      <td>20970</td>\n",
       "      <td>Analysing Soccer Games with Clustering and Con...</td>\n",
       "      <td>We present a new approach for identifying si...</td>\n",
       "      <td>1</td>\n",
       "      <td>0</td>\n",
       "      <td>0</td>\n",
       "      <td>0</td>\n",
       "      <td>0</td>\n",
       "      <td>0</td>\n",
       "    </tr>\n",
       "    <tr>\n",
       "      <th>20970</th>\n",
       "      <td>20971</td>\n",
       "      <td>On the Efficient Simulation of the Left-Tail o...</td>\n",
       "      <td>The sum of Log-normal variates is encountere...</td>\n",
       "      <td>0</td>\n",
       "      <td>0</td>\n",
       "      <td>1</td>\n",
       "      <td>1</td>\n",
       "      <td>0</td>\n",
       "      <td>0</td>\n",
       "    </tr>\n",
       "    <tr>\n",
       "      <th>20971</th>\n",
       "      <td>20972</td>\n",
       "      <td>Why optional stopping is a problem for Bayesians</td>\n",
       "      <td>Recently, optional stopping has been a subje...</td>\n",
       "      <td>0</td>\n",
       "      <td>0</td>\n",
       "      <td>1</td>\n",
       "      <td>1</td>\n",
       "      <td>0</td>\n",
       "      <td>0</td>\n",
       "    </tr>\n",
       "  </tbody>\n",
       "</table>\n",
       "<p>20972 rows × 9 columns</p>\n",
       "</div>"
      ],
      "text/plain": [
       "          ID                                              TITLE  \\\n",
       "0          1        Reconstructing Subject-Specific Effect Maps   \n",
       "1          2                 Rotation Invariance Neural Network   \n",
       "2          3  Spherical polyharmonics and Poisson kernels fo...   \n",
       "3          4  A finite element approximation for the stochas...   \n",
       "4          5  Comparative study of Discrete Wavelet Transfor...   \n",
       "...      ...                                                ...   \n",
       "20967  20968  Contemporary machine learning: a guide for pra...   \n",
       "20968  20969  Uniform diamond coatings on WC-Co hard alloy c...   \n",
       "20969  20970  Analysing Soccer Games with Clustering and Con...   \n",
       "20970  20971  On the Efficient Simulation of the Left-Tail o...   \n",
       "20971  20972   Why optional stopping is a problem for Bayesians   \n",
       "\n",
       "                                                ABSTRACT  Computer Science  \\\n",
       "0        Predictive models allow subject-specific inf...                 1   \n",
       "1        Rotation invariance and translation invarian...                 1   \n",
       "2        We introduce and develop the notion of spher...                 0   \n",
       "3        The stochastic Landau--Lifshitz--Gilbert (LL...                 0   \n",
       "4        Fourier-transform infra-red (FTIR) spectra o...                 1   \n",
       "...                                                  ...               ...   \n",
       "20967    Machine learning is finding increasingly bro...                 1   \n",
       "20968    Polycrystalline diamond coatings have been g...                 0   \n",
       "20969    We present a new approach for identifying si...                 1   \n",
       "20970    The sum of Log-normal variates is encountere...                 0   \n",
       "20971    Recently, optional stopping has been a subje...                 0   \n",
       "\n",
       "       Physics  Mathematics  Statistics  Quantitative Biology  \\\n",
       "0            0            0           0                     0   \n",
       "1            0            0           0                     0   \n",
       "2            0            1           0                     0   \n",
       "3            0            1           0                     0   \n",
       "4            0            0           1                     0   \n",
       "...        ...          ...         ...                   ...   \n",
       "20967        1            0           0                     0   \n",
       "20968        1            0           0                     0   \n",
       "20969        0            0           0                     0   \n",
       "20970        0            1           1                     0   \n",
       "20971        0            1           1                     0   \n",
       "\n",
       "       Quantitative Finance  \n",
       "0                         0  \n",
       "1                         0  \n",
       "2                         0  \n",
       "3                         0  \n",
       "4                         0  \n",
       "...                     ...  \n",
       "20967                     0  \n",
       "20968                     0  \n",
       "20969                     0  \n",
       "20970                     0  \n",
       "20971                     0  \n",
       "\n",
       "[20972 rows x 9 columns]"
      ]
     },
     "execution_count": 4,
     "metadata": {},
     "output_type": "execute_result"
    }
   ],
   "source": [
    "dataset = pd.read_csv(URL+\"dataset_Research_Article.csv\")\n",
    "dataset"
   ]
  },
  {
   "cell_type": "markdown",
   "id": "9ab5fc18",
   "metadata": {},
   "source": [
    "### Function for data cleaning"
   ]
  },
  {
   "cell_type": "code",
   "execution_count": 5,
   "id": "4e72fd04",
   "metadata": {},
   "outputs": [],
   "source": [
    "import string\n",
    "import spacy\n",
    "from nltk.corpus import stopwords\n",
    "import re\n",
    "\n",
    "english_stopwords = stopwords.words('english')\n",
    "nlp = spacy.load('en_core_web_sm')\n",
    "punctuation = set(string.punctuation)\n",
    "\n",
    "def data_cleaner(sentence):\n",
    "    sentence = sentence.lower()\n",
    "    for c in string.punctuation:\n",
    "        sentence = sentence.replace(c, \" \")\n",
    "    document = nlp(sentence)\n",
    "    sentence = ' '.join(token.lemma_ for token in document)\n",
    "    sentence = ' '.join(word for word in sentence.split() if word not in english_stopwords)\n",
    "    sentence = re.sub('\\d', '', sentence)\n",
    "    \n",
    "    return sentence.split()"
   ]
  },
  {
   "cell_type": "markdown",
   "id": "9a702e9e",
   "metadata": {},
   "source": [
    "### Function for avg vector"
   ]
  },
  {
   "cell_type": "code",
   "execution_count": 6,
   "id": "6aa7c093",
   "metadata": {},
   "outputs": [],
   "source": [
    "def avg_vector(sentence):\n",
    "    to_remove = 0\n",
    "    vector = np.zeros(300)\n",
    "    for word in sentence:\n",
    "        if word in glove_vectors.key_to_index.keys():\n",
    "            vector += glove_vectors.get_vector(word)\n",
    "        else:\n",
    "            to_remove += 1\n",
    "    if len(sentence)== to_remove:\n",
    "        return np.zeros(300)\n",
    "        \n",
    "    return vector/(len(sentence)-to_remove)"
   ]
  },
  {
   "cell_type": "code",
   "execution_count": null,
   "id": "baf22354",
   "metadata": {},
   "outputs": [],
   "source": []
  },
  {
   "cell_type": "code",
   "execution_count": 7,
   "id": "bc904c65",
   "metadata": {},
   "outputs": [],
   "source": [
    "def most_similar(vectors, index):\n",
    "    \n",
    "    similarity = 0\n",
    "    index_similar_doc = 0\n",
    "    \n",
    "    for i in range(0,len(vectors)):\n",
    "        if i!=index and vectors[i].all()!=np.zeros(300).all():\n",
    "            if 1 - spatial.distance.cosine(vectors[index], vectors[i]) > similarity:\n",
    "                index_similar_doc = i\n",
    "                similarity = 1 - spatial.distance.cosine(vectors[index], vectors[i])\n",
    "    \n",
    "    return similarity,index_similar_doc"
   ]
  },
  {
   "cell_type": "code",
   "execution_count": 8,
   "id": "d0f232b8",
   "metadata": {},
   "outputs": [],
   "source": [
    "vectors = [avg_vector(data_cleaner(doc)) for doc in dataset['ABSTRACT']]"
   ]
  },
  {
   "cell_type": "markdown",
   "id": "7a1ea667",
   "metadata": {},
   "source": [
    "### Test"
   ]
  },
  {
   "cell_type": "code",
   "execution_count": 9,
   "id": "b98a9318",
   "metadata": {},
   "outputs": [],
   "source": [
    "index = 12345"
   ]
  },
  {
   "cell_type": "code",
   "execution_count": 10,
   "id": "a31df3cd",
   "metadata": {},
   "outputs": [
    {
     "data": {
      "text/plain": [
       "'  It is well known that the affine matrix rank minimization problem is NP-hard\\nand all known algorithms for exactly solving it are doubly exponential in\\ntheory and in practice due to the combinational nature of the rank function. In\\nthis paper, a generalized singular value thresholding operator is generated to\\nsolve the affine matrix rank minimization problem. Numerical experiments show\\nthat our algorithm performs effectively in finding a low-rank matrix compared\\nwith some state-of-art methods.\\n'"
      ]
     },
     "execution_count": 10,
     "metadata": {},
     "output_type": "execute_result"
    }
   ],
   "source": [
    "dataset[\"ABSTRACT\"][index]"
   ]
  },
  {
   "cell_type": "code",
   "execution_count": 11,
   "id": "1b99601e",
   "metadata": {},
   "outputs": [],
   "source": [
    "similarity,index_similar_doc = most_similar(vectors,index)"
   ]
  },
  {
   "cell_type": "code",
   "execution_count": 12,
   "id": "01e84694",
   "metadata": {},
   "outputs": [
    {
     "data": {
      "text/plain": [
       "0.9302897940113917"
      ]
     },
     "execution_count": 12,
     "metadata": {},
     "output_type": "execute_result"
    }
   ],
   "source": [
    "similarity"
   ]
  },
  {
   "cell_type": "code",
   "execution_count": 13,
   "id": "02544833",
   "metadata": {},
   "outputs": [
    {
     "data": {
      "text/plain": [
       "17189"
      ]
     },
     "execution_count": 13,
     "metadata": {},
     "output_type": "execute_result"
    }
   ],
   "source": [
    "index_similar_doc"
   ]
  },
  {
   "cell_type": "code",
   "execution_count": 14,
   "id": "3b7f5ebe",
   "metadata": {},
   "outputs": [
    {
     "data": {
      "text/plain": [
       "'  Differentiable systems in this paper means systems of equations that are\\ndescribed by differentiable real functions in real matrix variables. This paper\\nproposes algorithms for finding minimal rank solutions to such systems over\\n(arbitrary and/or several structured) matrices by using the Levenberg-Marquardt\\nmethod (LM-method) for solving least squares problems. We then apply these\\nalgorithms to solve several engineering problems such as the low-rank matrix\\ncompletion problem and the low-dimensional Euclidean embedding one. Some\\nnumerical experiments illustrate the validity of the approach.\\nOn the other hand, we provide some further properties of low rank solutions\\nto systems linear matrix equations. This is useful when the differentiable\\nfunction is linear or quadratic.\\n'"
      ]
     },
     "execution_count": 14,
     "metadata": {},
     "output_type": "execute_result"
    }
   ],
   "source": [
    "dataset[\"ABSTRACT\"][index_similar_doc]"
   ]
  }
 ],
 "metadata": {
  "kernelspec": {
   "display_name": "Python 3",
   "language": "python",
   "name": "python3"
  },
  "language_info": {
   "codemirror_mode": {
    "name": "ipython",
    "version": 3
   },
   "file_extension": ".py",
   "mimetype": "text/x-python",
   "name": "python",
   "nbconvert_exporter": "python",
   "pygments_lexer": "ipython3",
   "version": "3.8.8"
  }
 },
 "nbformat": 4,
 "nbformat_minor": 5
}
